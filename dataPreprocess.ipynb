{
 "cells": [
  {
   "cell_type": "markdown",
   "metadata": {},
   "source": [
    "ALL Data Transform"
   ]
  },
  {
   "cell_type": "code",
   "execution_count": 51,
   "metadata": {},
   "outputs": [
    {
     "name": "stdout",
     "output_type": "stream",
     "text": [
      "Error parsing date on row: ['Number', 'Date', 'Time', 'Temperature', 'Kanal 02', 'Obj. Temp.', 'Kanal 04', 'Door open', 'Anti-condensat.', 'Compressed air', '']\n",
      "Conversion completed successfully.\n"
     ]
    }
   ],
   "source": [
    "import csv\n",
    "import pandas as pd\n",
    "\n",
    "from datetime import datetime\n",
    "\n",
    "input_file = 'DL1_00_0C_D8_0A_33_61.csv'\n",
    "\n",
    "def format_date_time(date_str, time_str):\n",
    "    date = datetime.strptime(date_str, '%d.%m.%Y').strftime('%d.%m.%Y')\n",
    "    time = datetime.strptime(time_str, '%H:%M:%S').strftime('%H:%M:%S')\n",
    "    return date, time\n",
    "\n",
    "def calculate_elapsed_time(prev_time, current_time):\n",
    "    prev_datetime = datetime.strptime(prev_time, '%H:%M:%S')\n",
    "    current_datetime = datetime.strptime(current_time, '%H:%M:%S')\n",
    "    elapsed_time = current_datetime - prev_datetime\n",
    "    return str(elapsed_time)\n",
    "\n",
    "data = []\n",
    "\n",
    "with open(input_file, 'r', newline='') as infile:\n",
    "    reader = csv.reader(infile, delimiter=';')\n",
    "    next(reader)  # Skip header\n",
    "\n",
    "    prev_time = None\n",
    "\n",
    "    for row in reader:\n",
    "        try:\n",
    "            date, time = format_date_time(row[1], row[2])\n",
    "\n",
    "            if prev_time:\n",
    "                elapsed = calculate_elapsed_time(prev_time, time)\n",
    "            else:\n",
    "                elapsed = '0:00:00'\n",
    "\n",
    "            prev_time = time\n",
    "\n",
    "            temperature = float(row[3].replace(',', '.'))\n",
    "\n",
    "            data.append([row[0], elapsed, date, time, temperature])\n",
    "\n",
    "        except ValueError as e:\n",
    "            print(f\"Error parsing date on row: {row}\")\n",
    "            continue\n",
    "\n",
    "# Create DataFrame with specified column sequence\n",
    "df = pd.DataFrame(data, columns=['#', 'Elapsed', 'Date', 'Time', 'Int T °C'])\n",
    "\n",
    "# Further filtration on DataFrame can be performed here\n",
    "\n",
    "print(\"Conversion completed successfully.\")\n"
   ]
  },
  {
   "cell_type": "code",
   "execution_count": 52,
   "metadata": {},
   "outputs": [
    {
     "name": "stdout",
     "output_type": "stream",
     "text": [
      "             #  Elapsed        Date      Time      Int T °C\n",
      "0       105892  0:00:00  03.04.2023  08:41:00 -3.000822e+01\n",
      "1       105893  0:01:00  03.04.2023  08:42:00 -3.000438e+01\n",
      "2       105894  0:01:00  03.04.2023  08:43:00 -3.000519e+01\n",
      "3       105895  0:01:00  03.04.2023  08:44:00 -3.001120e+01\n",
      "4       105896  0:01:00  03.04.2023  08:45:00 -3.001211e+01\n",
      "...        ...      ...         ...       ...           ...\n",
      "105115  211007  0:01:00  17.01.2024  18:01:00 -1.999530e+01\n",
      "105116  211008  0:41:59  17.01.2024  18:42:59  1.000003e+06\n",
      "105117  211009  0:00:01  17.01.2024  18:43:00 -6.574588e+00\n",
      "105118  211010  0:01:00  17.01.2024  18:44:00 -7.414710e+00\n",
      "105119  211011  0:01:00  17.01.2024  18:45:00 -7.436536e+00\n",
      "\n",
      "[105120 rows x 5 columns]\n"
     ]
    }
   ],
   "source": [
    "print(df)"
   ]
  },
  {
   "cell_type": "markdown",
   "metadata": {},
   "source": [
    "Filteredt Data"
   ]
  },
  {
   "cell_type": "code",
   "execution_count": 56,
   "metadata": {},
   "outputs": [
    {
     "name": "stdout",
     "output_type": "stream",
     "text": [
      "Error parsing date on row: ['Number', 'Date', 'Time', 'Temperature', 'Kanal 02', 'Obj. Temp.', 'Kanal 04', 'Door open', 'Anti-condensat.', 'Compressed air', '']\n",
      "          #   Elapsed        Date      Time   Int T °C\n",
      "0         1  00:00:00  03.04.2023  08:41:00 -30.008217\n",
      "1         2  00:01:00  03.04.2023  08:42:00 -30.004377\n",
      "2         3  00:02:00  03.04.2023  08:43:00 -30.005192\n",
      "3         4  00:03:00  03.04.2023  08:44:00 -30.011202\n",
      "4         5  00:04:00  03.04.2023  08:45:00 -30.012106\n",
      "...     ...       ...         ...       ...        ...\n",
      "65152  5235  15:14:00  03.07.2023  23:55:00  39.111179\n",
      "65153  5236  15:15:00  03.07.2023  23:56:00  39.115303\n",
      "65154  5237  15:16:00  03.07.2023  23:57:00  39.118366\n",
      "65155  5238  15:17:00  03.07.2023  23:58:00  39.120525\n",
      "65156  5239  15:18:00  03.07.2023  23:59:00  39.123089\n",
      "\n",
      "[5239 rows x 5 columns]\n"
     ]
    }
   ],
   "source": [
    "import csv\n",
    "import pandas as pd\n",
    "from datetime import datetime, timedelta\n",
    "\n",
    "input_file = 'DL1_00_0C_D8_0A_33_61.csv'\n",
    "\n",
    "def format_date_time(date_str, time_str):\n",
    "    date = datetime.strptime(date_str, '%d.%m.%Y').strftime('%d.%m.%Y')\n",
    "    time = datetime.strptime(time_str, '%H:%M:%S').strftime('%H:%M:%S')\n",
    "    return date, time\n",
    "\n",
    "def calculate_elapsed_time(prev_time, current_time):\n",
    "    prev_datetime = datetime.strptime(prev_time, '%H:%M:%S')\n",
    "    current_datetime = datetime.strptime(current_time, '%H:%M:%S')\n",
    "    elapsed_time = current_datetime - prev_datetime\n",
    "    return str(elapsed_time)\n",
    "\n",
    "# Read data into a list\n",
    "data = []\n",
    "\n",
    "with open(input_file, 'r', newline='') as infile:\n",
    "    reader = csv.reader(infile, delimiter=';')\n",
    "    next(reader)  # Skip header\n",
    "\n",
    "    prev_time = None\n",
    "\n",
    "    for row in reader:\n",
    "        try:\n",
    "            date, time = format_date_time(row[1], row[2])\n",
    "\n",
    "            if prev_time:\n",
    "                elapsed = calculate_elapsed_time(prev_time, time)\n",
    "            else:\n",
    "                elapsed = '0:00:00'\n",
    "\n",
    "            prev_time = time\n",
    "\n",
    "            temperature = float(row[3].replace(',', '.'))\n",
    "\n",
    "            data.append([row[0], elapsed, date, time, temperature])\n",
    "\n",
    "        except ValueError as e:\n",
    "            print(f\"Error parsing date on row: {row}\")\n",
    "            continue\n",
    "\n",
    "# Create DataFrame with specified column sequence\n",
    "df = pd.DataFrame(data, columns=['#', 'Elapsed', 'Date', 'Time', 'Int T °C'])\n",
    "\n",
    "# Prompt user for start and end dates\n",
    "start_date_str = input(\"Enter start date (DD.MM.YYYY): \")\n",
    "end_date_str = input(\"Enter end date (DD.MM.YYYY): \")\n",
    "\n",
    "# Convert user input to datetime objects\n",
    "start_date = datetime.strptime(start_date_str, '%d.%m.%Y')\n",
    "end_date = datetime.strptime(end_date_str, '%d.%m.%Y')\n",
    "\n",
    "# Filter DataFrame based on start and end dates\n",
    "filtered_df = df[(df['Date'] >= start_date_str) & (df['Date'] <= end_date_str)].copy()  # Make a copy to avoid warning\n",
    "\n",
    "# Reset '#' column to start from 1 onwards\n",
    "filtered_df.loc[:, '#'] = range(1, len(filtered_df) + 1)\n",
    "\n",
    "# Reset 'Elapsed' column values to start from 0:00:00 onwards\n",
    "start_time = datetime.strptime('0:00:00', '%H:%M:%S')\n",
    "filtered_df.loc[:, 'Elapsed'] = [(start_time + timedelta(minutes=i)).strftime('%H:%M:%S') for i in range(len(filtered_df))]\n",
    "\n",
    "print(filtered_df)\n"
   ]
  }
 ],
 "metadata": {
  "kernelspec": {
   "display_name": "env",
   "language": "python",
   "name": "python3"
  },
  "language_info": {
   "codemirror_mode": {
    "name": "ipython",
    "version": 3
   },
   "file_extension": ".py",
   "mimetype": "text/x-python",
   "name": "python",
   "nbconvert_exporter": "python",
   "pygments_lexer": "ipython3",
   "version": "3.12.1"
  }
 },
 "nbformat": 4,
 "nbformat_minor": 2
}
